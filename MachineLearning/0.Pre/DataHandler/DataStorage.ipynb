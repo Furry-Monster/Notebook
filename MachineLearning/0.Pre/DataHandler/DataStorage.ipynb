{
 "cells": [
  {
   "cell_type": "code",
   "execution_count": 1,
   "metadata": {},
   "outputs": [],
   "source": [
    "import torch"
   ]
  },
  {
   "cell_type": "code",
   "execution_count": 2,
   "metadata": {},
   "outputs": [
    {
     "name": "stdout",
     "output_type": "stream",
     "text": [
      "tensor([ 0,  1,  2,  3,  4,  5,  6,  7,  8,  9, 10, 11])\n",
      "\n",
      "\n",
      "tensor([[ 0,  1,  2,  3],\n",
      "        [ 4,  5,  6,  7],\n",
      "        [ 8,  9, 10, 11]])\n",
      "\n",
      "\n",
      "tensor([[ 0,  4,  8],\n",
      "        [ 1,  5,  9],\n",
      "        [ 2,  6, 10],\n",
      "        [ 3,  7, 11]])\n",
      "\n",
      "\n",
      "tensor([[ 0,  4,  8],\n",
      "        [ 1,  5,  9],\n",
      "        [ 2,  6, 10],\n",
      "        [ 3,  7, 11]])\n",
      "\n",
      "\n",
      "tensor([[[ 0,  4,  8],\n",
      "         [ 1,  5,  9],\n",
      "         [ 2,  6, 10],\n",
      "         [ 3,  7, 11]]])\n",
      "\n",
      "\n",
      "tensor([[ 0,  4,  8],\n",
      "        [ 1,  5,  9],\n",
      "        [ 2,  6, 10],\n",
      "        [ 3,  7, 11]])\n",
      "\n",
      "\n",
      "tensor([[ 0,  1,  2,  3],\n",
      "        [ 4,  5,  6,  7],\n",
      "        [ 8,  9, 10, 11]])\n",
      "\n",
      "\n",
      "tensor([[ 0,  4,  8],\n",
      "        [ 1,  5,  9],\n",
      "        [ 2,  6, 10],\n",
      "        [ 3,  7, 11]])\n",
      "\n",
      "\n"
     ]
    }
   ],
   "source": [
    "x = torch.arange(12)\n",
    "print(x)\n",
    "print('\\n')\n",
    "x = x.view(3, 4)\n",
    "print(x)\n",
    "print('\\n')\n",
    "x = x.transpose(0, 1)\n",
    "print(x)\n",
    "print('\\n')\n",
    "x = x.reshape(4, 3)\n",
    "print(x)\n",
    "print('\\n')\n",
    "x = x.unsqueeze(0)\n",
    "print(x)\n",
    "print('\\n')\n",
    "x = x.squeeze(0)\n",
    "print(x)\n",
    "print('\\n')\n",
    "x = x.t()\n",
    "print(x)\n",
    "print('\\n')\n",
    "x = x.permute(1, 0)\n",
    "print(x)\n",
    "print('\\n')"
   ]
  },
  {
   "cell_type": "code",
   "execution_count": 3,
   "metadata": {},
   "outputs": [
    {
     "name": "stdout",
     "output_type": "stream",
     "text": [
      "tensor([[ 0,  4,  8],\n",
      "        [ 1,  5,  9],\n",
      "        [ 2,  6, 10],\n",
      "        [ 3,  7, 11]])\n",
      "torch.Size([4, 3])\n",
      "tensor([[ 0,  1,  2,  3],\n",
      "        [ 4,  5,  6,  7],\n",
      "        [ 8,  9, 10, 11]])\n",
      "torch.Size([3, 4])\n"
     ]
    }
   ],
   "source": [
    "print(x)\n",
    "print(x.shape)\n",
    "\n",
    "x_transpose = x.transpose(0,1)\n",
    "#transpose should be stored in a new variable\n",
    "# to avoid modifying the original matrix!!\n",
    "\n",
    "print(x_transpose)\n",
    "print(x_transpose.shape)"
   ]
  },
  {
   "cell_type": "code",
   "execution_count": 4,
   "metadata": {},
   "outputs": [
    {
     "name": "stdout",
     "output_type": "stream",
     "text": [
      "12\n",
      "tensor([[[0., 0., 0., 0.],\n",
      "         [0., 0., 0., 0.],\n",
      "         [0., 0., 0., 0.]],\n",
      "\n",
      "        [[0., 0., 0., 0.],\n",
      "         [0., 0., 0., 0.],\n",
      "         [0., 0., 0., 0.]]])\n",
      "tensor([[[1., 1., 1., 1.],\n",
      "         [1., 1., 1., 1.],\n",
      "         [1., 1., 1., 1.]],\n",
      "\n",
      "        [[1., 1., 1., 1.],\n",
      "         [1., 1., 1., 1.],\n",
      "         [1., 1., 1., 1.]]])\n",
      "tensor([[[0.5274, 0.8478, 0.0938, 0.6643],\n",
      "         [0.0314, 0.8992, 0.5968, 0.6658],\n",
      "         [0.6058, 0.5595, 0.9993, 0.9564]],\n",
      "\n",
      "        [[0.4817, 0.3176, 0.2421, 0.2171],\n",
      "         [0.2114, 0.2285, 0.2035, 0.7274],\n",
      "         [0.6379, 0.5188, 0.2084, 0.0966]]])\n",
      "tensor([[[5, 4, 0, 4],\n",
      "         [8, 5, 9, 6],\n",
      "         [8, 5, 1, 1]],\n",
      "\n",
      "        [[3, 6, 8, 7],\n",
      "         [7, 8, 0, 4],\n",
      "         [2, 2, 9, 4]]])\n",
      "tensor([[[ 1.0446,  0.2303, -1.6450, -0.4448],\n",
      "         [ 1.4014, -1.6944,  1.9327, -0.8819],\n",
      "         [-1.4641, -0.0959, -2.5783,  2.0555]],\n",
      "\n",
      "        [[ 0.6993,  0.2844, -0.4642, -2.2004],\n",
      "         [-0.9252,  0.4960,  0.0253,  2.3199],\n",
      "         [ 1.0825, -0.4366,  1.0805,  0.0416]]])\n"
     ]
    }
   ],
   "source": [
    "print(x.numel())\n",
    "# numel is a shortcut for \"number of elements\"\n",
    "\n",
    "zero_tensor = torch.zeros(2,3,4)\n",
    "print(zero_tensor)\n",
    "\n",
    "ones_tensor = torch.ones(2,3,4)\n",
    "print(ones_tensor)\n",
    "\n",
    "rand_tensor = torch.rand(2,3,4)\n",
    "print(rand_tensor)\n",
    "# the value of each element is randomly generated between 0 and 1\n",
    "# according to the normal distribution(gaussian distribution)\n",
    "# with mean 0 and standard deviation 1.\n",
    "\n",
    "rand_int_tensor = torch.randint(0, 10, (2,3,4))\n",
    "print(rand_int_tensor)\n",
    "# the value of each element is randomly generated between 0 and 9\n",
    "# according to the uniform distribution.\n",
    "\n",
    "rand_normal_tensor = torch.randn(2,3,4)\n",
    "print(rand_normal_tensor)\n",
    "# the value of each element is randomly generated according to the normal distribution.\n",
    "# with mean 0 and standard deviation 1.\n",
    "\n"
   ]
  },
  {
   "cell_type": "code",
   "execution_count": 5,
   "metadata": {},
   "outputs": [
    {
     "name": "stdout",
     "output_type": "stream",
     "text": [
      "tensor([5, 7, 9])\n",
      "tensor([-3, -3, -3])\n",
      "tensor([ 4, 10, 18])\n",
      "tensor([0.2500, 0.4000, 0.5000])\n",
      "tensor([  1,  32, 729])\n",
      "tensor(32)\n",
      "tensor(6)\n",
      "tensor([ 2.7183,  7.3891, 20.0855])\n",
      "tensor([0.0000, 0.6931, 1.0986])\n"
     ]
    }
   ],
   "source": [
    "a = torch.tensor([1, 2, 3])\n",
    "b = torch.tensor([4, 5, 6])\n",
    "\n",
    "res = a + b\n",
    "print(res)\n",
    "\n",
    "res = a - b\n",
    "print(res)\n",
    "\n",
    "res = a * b\n",
    "print(res)\n",
    "\n",
    "res = a / b\n",
    "print(res)\n",
    "\n",
    "res = a**b\n",
    "print(res)\n",
    "\n",
    "res = a.dot(b)\n",
    "print(res)\n",
    "\n",
    "res = a.sum()\n",
    "print(res)\n",
    "\n",
    "res = a.exp()\n",
    "print(res)\n",
    "\n",
    "res = a.log()\n",
    "print(res)"
   ]
  },
  {
   "cell_type": "code",
   "execution_count": 6,
   "metadata": {},
   "outputs": [
    {
     "name": "stdout",
     "output_type": "stream",
     "text": [
      "tensor([[ 0.,  1.,  2.,  3.],\n",
      "        [ 4.,  5.,  6.,  7.],\n",
      "        [ 8.,  9., 10., 11.]])\n",
      "\n",
      "\n",
      "tensor([[2., 1., 4., 3.],\n",
      "        [1., 2., 3., 4.],\n",
      "        [4., 3., 2., 1.]])\n",
      "\n",
      "\n",
      "tensor([[ 2.,  2.,  6.,  6.],\n",
      "        [ 5.,  7.,  9., 11.],\n",
      "        [12., 12., 12., 12.]])\n",
      "\n",
      "\n",
      "tensor([[ 0.,  1.,  2.,  3.],\n",
      "        [ 4.,  5.,  6.,  7.],\n",
      "        [ 8.,  9., 10., 11.],\n",
      "        [ 2.,  1.,  4.,  3.],\n",
      "        [ 1.,  2.,  3.,  4.],\n",
      "        [ 4.,  3.,  2.,  1.]])\n",
      "\n",
      "\n",
      "tensor([[ 0.,  1.,  2.,  3.,  2.,  1.,  4.,  3.],\n",
      "        [ 4.,  5.,  6.,  7.,  1.,  2.,  3.,  4.],\n",
      "        [ 8.,  9., 10., 11.,  4.,  3.,  2.,  1.]])\n"
     ]
    }
   ],
   "source": [
    "a = torch.arange(12,dtype=torch.float32).reshape(3,4)\n",
    "print(a)\n",
    "print('\\n')\n",
    "\n",
    "b = torch.tensor([[2.0, 1, 4, 3], [1, 2, 3, 4], [4, 3, 2, 1]])\n",
    "print(b)\n",
    "print('\\n')\n",
    "\n",
    "res = a + b\n",
    "print(res)\n",
    "print('\\n')\n",
    "\n",
    "ab_row = torch.cat((a,b),dim=0)\n",
    "# catenate along row(keep the same column number)\n",
    "# linked like this:\n",
    "# ab_row = | a11 a12 a13 a14 |\n",
    "#          | a21 a22 a23 a24 |\n",
    "#          | a31 a32 a33 a34 |\n",
    "#          -------------------\n",
    "#          | b11 b12 b13 b14 |\n",
    "#          | b21 b22 b23 b24 |  \n",
    "#          | b31 b32 b33 b34 |\n",
    "\n",
    "ab_col = torch.cat((a,b),dim=1)\n",
    "# catenate along column(keep the same row number)\n",
    "# linked like this:\n",
    "# ab_col = | a11 a12 a13 a14 | b11 b12 b13 b14 |\n",
    "#          | a21 a22 a23 a24 | b21 b22 b23 b24 |\n",
    "#          | a31 a32 a33 a34 | b31 b32 b33 b34 |\n",
    "\n",
    "print(ab_row)\n",
    "print('\\n')\n",
    "print(ab_col)"
   ]
  },
  {
   "cell_type": "code",
   "execution_count": 7,
   "metadata": {},
   "outputs": [
    {
     "name": "stdout",
     "output_type": "stream",
     "text": [
      "tensor([[False,  True, False,  True],\n",
      "        [False, False, False, False],\n",
      "        [False, False, False, False]])\n"
     ]
    }
   ],
   "source": [
    "ab_compare = a == b\n",
    "print(ab_compare)"
   ]
  },
  {
   "cell_type": "code",
   "execution_count": 8,
   "metadata": {},
   "outputs": [
    {
     "name": "stdout",
     "output_type": "stream",
     "text": [
      "tensor([[0],\n",
      "        [1],\n",
      "        [2]])\n",
      "tensor([[0, 1]])\n",
      "\n",
      "\n",
      "tensor([[0, 1],\n",
      "        [1, 2],\n",
      "        [2, 3]])\n"
     ]
    }
   ],
   "source": [
    "a = torch.arange(3).reshape(3,1)\n",
    "b = torch.arange(2).reshape(1,2)\n",
    "\n",
    "print(a)\n",
    "print(b)\n",
    "\n",
    "print('\\n')\n",
    "\n",
    "res = a + b\n",
    "# tensor with different shape\n",
    "# would broadcast to the same shape when calculating\n",
    "\n",
    "print(res)"
   ]
  },
  {
   "cell_type": "code",
   "execution_count": 9,
   "metadata": {},
   "outputs": [
    {
     "name": "stdout",
     "output_type": "stream",
     "text": [
      "tensor([[0],\n",
      "        [1],\n",
      "        [2]])\n",
      "tensor([[3],\n",
      "        [3],\n",
      "        [2]])\n"
     ]
    }
   ],
   "source": [
    "print(a)\n",
    "a[0:2] = 3\n",
    "print(a)"
   ]
  },
  {
   "cell_type": "code",
   "execution_count": 10,
   "metadata": {},
   "outputs": [
    {
     "name": "stdout",
     "output_type": "stream",
     "text": [
      "tensor([0, 0, 0, 0, 0])\n",
      "id(Z): 1636308854288\n",
      "tensor([ 2,  4,  6,  8, 10])\n",
      "id(Z): 1636308854288\n"
     ]
    }
   ],
   "source": [
    "X = torch.tensor([1, 2, 3, 4, 5])\n",
    "Y = torch.tensor([1, 2, 3, 4, 5])\n",
    "Z = torch.zeros_like(Y)\n",
    "print(Z)\n",
    "print('id(Z):', id(Z))\n",
    "\n",
    "Z[:] = X + Y\n",
    "print(Z)\n",
    "print('id(Z):', id(Z))\n",
    "\n",
    "#code like this to avoid create new tensor every time\n",
    "#so that we can use the same tensor to store the result\n",
    "#avoid too many memory usage!!!"
   ]
  },
  {
   "cell_type": "code",
   "execution_count": 11,
   "metadata": {},
   "outputs": [
    {
     "name": "stdout",
     "output_type": "stream",
     "text": [
      "tensor([1, 2, 3, 4, 5])\n",
      "<class 'torch.Tensor'>\n",
      "[1 2 3 4 5]\n",
      "<class 'numpy.ndarray'>\n"
     ]
    }
   ],
   "source": [
    "print(X)\n",
    "print(type(X))\n",
    "Y = X.numpy()\n",
    "print(Y)\n",
    "print(type(Y))"
   ]
  },
  {
   "cell_type": "markdown",
   "metadata": {},
   "source": [
    "## 小结\n",
    "\n",
    "* 深度学习存储和操作数据的主要接口是张量（$n$维数组）。它提供了各种功能，包括基本数学运算、广播、索引、切片、内存节省和转换其他Python对象。"
   ]
  }
 ],
 "metadata": {
  "kernelspec": {
   "display_name": "Pytorch",
   "language": "python",
   "name": "python3"
  },
  "language_info": {
   "codemirror_mode": {
    "name": "ipython",
    "version": 3
   },
   "file_extension": ".py",
   "mimetype": "text/x-python",
   "name": "python",
   "nbconvert_exporter": "python",
   "pygments_lexer": "ipython3",
   "version": "3.10.14"
  }
 },
 "nbformat": 4,
 "nbformat_minor": 2
}
