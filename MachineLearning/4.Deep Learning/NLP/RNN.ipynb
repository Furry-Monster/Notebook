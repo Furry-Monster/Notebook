{
 "cells": [
  {
   "cell_type": "markdown",
   "metadata": {},
   "source": [
    "# Recurrent Neural Network (RNN)"
   ]
  },
  {
   "cell_type": "markdown",
   "metadata": {},
   "source": [
    "如果说卷积神经网络可以有效地处理空间信息，\n",
    "那么*循环神经网络*（recurrent neural network，RNN）则可以更好地处理序列信息。\n",
    "循环神经网络通过引入状态变量存储过去的信息和当前的输入，从而可以确定当前的输出。"
   ]
  },
  {
   "cell_type": "code",
   "execution_count": null,
   "metadata": {},
   "outputs": [],
   "source": []
  }
 ],
 "metadata": {
  "language_info": {
   "name": "python"
  }
 },
 "nbformat": 4,
 "nbformat_minor": 2
}
